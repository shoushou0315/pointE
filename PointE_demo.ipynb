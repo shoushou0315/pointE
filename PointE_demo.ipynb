{
  "cells": [
    {
      "cell_type": "markdown",
      "metadata": {
        "id": "view-in-github",
        "colab_type": "text"
      },
      "source": [
        "<a href=\"https://colab.research.google.com/github/shoushou0315/pointE/blob/main/PointE_demo.ipynb\" target=\"_parent\"><img src=\"https://colab.research.google.com/assets/colab-badge.svg\" alt=\"Open In Colab\"/></a>"
      ]
    },
    {
      "cell_type": "markdown",
      "metadata": {
        "id": "9NENcrgDJv9q"
      },
      "source": [
        "論文  \n",
        "https://arxiv.org/abs/2212.08751<br>\n",
        "<br>\n",
        "GitHub<br>\n",
        "https://github.com/openai/point-e<br>\n",
        "<br>\n",
        "<a href=\"https://colab.research.google.com/github/kaz12tech/ai_demos/blob/master/PointE_demo.ipynb\" target=\"_blank\"><img src=\"https://colab.research.google.com/assets/colab-badge.svg\" alt=\"Open In Colab\"/></a>"
      ]
    },
    {
      "cell_type": "markdown",
      "metadata": {
        "id": "LHqYjlJ4Jv9u"
      },
      "source": [
        "# 環境セットアップ"
      ]
    },
    {
      "cell_type": "markdown",
      "metadata": {
        "id": "z7jySK7RJv9v"
      },
      "source": [
        "## GPU確認"
      ]
    },
    {
      "cell_type": "code",
      "execution_count": 2,
      "metadata": {
        "id": "2PcII5fLdHnJ",
        "colab": {
          "base_uri": "https://localhost:8080/"
        },
        "outputId": "77d1394b-2f05-41c8-8830-e8ffb650c36e"
      },
      "outputs": [
        {
          "output_type": "stream",
          "name": "stdout",
          "text": [
            "Fri Sep  5 08:08:18 2025       \n",
            "+-----------------------------------------------------------------------------------------+\n",
            "| NVIDIA-SMI 550.54.15              Driver Version: 550.54.15      CUDA Version: 12.4     |\n",
            "|-----------------------------------------+------------------------+----------------------+\n",
            "| GPU  Name                 Persistence-M | Bus-Id          Disp.A | Volatile Uncorr. ECC |\n",
            "| Fan  Temp   Perf          Pwr:Usage/Cap |           Memory-Usage | GPU-Util  Compute M. |\n",
            "|                                         |                        |               MIG M. |\n",
            "|=========================================+========================+======================|\n",
            "|   0  Tesla T4                       Off |   00000000:00:04.0 Off |                    0 |\n",
            "| N/A   70C    P8             12W /   70W |       0MiB /  15360MiB |      0%      Default |\n",
            "|                                         |                        |                  N/A |\n",
            "+-----------------------------------------+------------------------+----------------------+\n",
            "                                                                                         \n",
            "+-----------------------------------------------------------------------------------------+\n",
            "| Processes:                                                                              |\n",
            "|  GPU   GI   CI        PID   Type   Process name                              GPU Memory |\n",
            "|        ID   ID                                                               Usage      |\n",
            "|=========================================================================================|\n",
            "|  No running processes found                                                             |\n",
            "+-----------------------------------------------------------------------------------------+\n"
          ]
        }
      ],
      "source": [
        "!nvidia-smi"
      ]
    },
    {
      "cell_type": "markdown",
      "metadata": {
        "id": "aaAzHlBvJv9y"
      },
      "source": [
        "## GitHubからコード取得"
      ]
    },
    {
      "cell_type": "code",
      "execution_count": 3,
      "metadata": {
        "id": "R-Y5auuvnnnT",
        "colab": {
          "base_uri": "https://localhost:8080/"
        },
        "outputId": "9a0665b8-3307-4361-e408-5228477fdba7"
      },
      "outputs": [
        {
          "output_type": "stream",
          "name": "stdout",
          "text": [
            "/content\n",
            "fatal: destination path 'point-e' already exists and is not an empty directory.\n",
            "/content/point-e\n",
            "HEAD is now at fc8a607 Merge pull request #5 from openai/hj/license\n"
          ]
        }
      ],
      "source": [
        "%cd /content\n",
        "\n",
        "!git clone https://github.com/openai/point-e.git\n",
        "\n",
        "# using Commits on Dec 20, 2022\n",
        "%cd /content/point-e\n",
        "!git checkout fc8a607c08a3ea804cc82bf1ef8628f88a3a5d2f"
      ]
    },
    {
      "cell_type": "markdown",
      "metadata": {
        "id": "4tp-fduPJv9z"
      },
      "source": [
        "## ライブラリのインストール"
      ]
    },
    {
      "cell_type": "code",
      "execution_count": 4,
      "metadata": {
        "id": "LScsvO3UppqT",
        "outputId": "c981aaea-93c2-4909-9755-9a2a71ee6338",
        "colab": {
          "base_uri": "https://localhost:8080/"
        }
      },
      "outputs": [
        {
          "output_type": "stream",
          "name": "stdout",
          "text": [
            "/content/point-e\n",
            "Obtaining file:///content/point-e\n",
            "  Preparing metadata (setup.py) ... \u001b[?25l\u001b[?25hdone\n",
            "Collecting clip@ git+https://github.com/openai/CLIP.git (from point-e==0.0.0)\n",
            "  Cloning https://github.com/openai/CLIP.git to /tmp/pip-install-ig_3fpvw/clip_2d0a94ca05be4265be3a85b56aca302f\n",
            "  Running command git clone --filter=blob:none --quiet https://github.com/openai/CLIP.git /tmp/pip-install-ig_3fpvw/clip_2d0a94ca05be4265be3a85b56aca302f\n",
            "  Resolved https://github.com/openai/CLIP.git to commit dcba3cb2e2827b402d2701e7e1c7d9fed8a20ef1\n",
            "  Preparing metadata (setup.py) ... \u001b[?25l\u001b[?25hdone\n",
            "Requirement already satisfied: filelock in /usr/local/lib/python3.12/dist-packages (from point-e==0.0.0) (3.19.1)\n",
            "Requirement already satisfied: Pillow in /usr/local/lib/python3.12/dist-packages (from point-e==0.0.0) (11.3.0)\n",
            "Requirement already satisfied: torch in /usr/local/lib/python3.12/dist-packages (from point-e==0.0.0) (2.8.0+cu126)\n",
            "Requirement already satisfied: fire in /usr/local/lib/python3.12/dist-packages (from point-e==0.0.0) (0.7.1)\n",
            "Requirement already satisfied: humanize in /usr/local/lib/python3.12/dist-packages (from point-e==0.0.0) (4.13.0)\n",
            "Requirement already satisfied: requests in /usr/local/lib/python3.12/dist-packages (from point-e==0.0.0) (2.32.4)\n",
            "Requirement already satisfied: tqdm in /usr/local/lib/python3.12/dist-packages (from point-e==0.0.0) (4.67.1)\n",
            "Requirement already satisfied: matplotlib in /usr/local/lib/python3.12/dist-packages (from point-e==0.0.0) (3.10.0)\n",
            "Requirement already satisfied: scikit-image in /usr/local/lib/python3.12/dist-packages (from point-e==0.0.0) (0.25.2)\n",
            "Requirement already satisfied: scipy in /usr/local/lib/python3.12/dist-packages (from point-e==0.0.0) (1.16.1)\n",
            "Requirement already satisfied: numpy in /usr/local/lib/python3.12/dist-packages (from point-e==0.0.0) (2.0.2)\n",
            "Requirement already satisfied: ftfy in /usr/local/lib/python3.12/dist-packages (from clip@ git+https://github.com/openai/CLIP.git->point-e==0.0.0) (6.3.1)\n",
            "Requirement already satisfied: packaging in /usr/local/lib/python3.12/dist-packages (from clip@ git+https://github.com/openai/CLIP.git->point-e==0.0.0) (25.0)\n",
            "Requirement already satisfied: regex in /usr/local/lib/python3.12/dist-packages (from clip@ git+https://github.com/openai/CLIP.git->point-e==0.0.0) (2024.11.6)\n",
            "Requirement already satisfied: torchvision in /usr/local/lib/python3.12/dist-packages (from clip@ git+https://github.com/openai/CLIP.git->point-e==0.0.0) (0.23.0+cu126)\n",
            "Requirement already satisfied: termcolor in /usr/local/lib/python3.12/dist-packages (from fire->point-e==0.0.0) (3.1.0)\n",
            "Requirement already satisfied: contourpy>=1.0.1 in /usr/local/lib/python3.12/dist-packages (from matplotlib->point-e==0.0.0) (1.3.3)\n",
            "Requirement already satisfied: cycler>=0.10 in /usr/local/lib/python3.12/dist-packages (from matplotlib->point-e==0.0.0) (0.12.1)\n",
            "Requirement already satisfied: fonttools>=4.22.0 in /usr/local/lib/python3.12/dist-packages (from matplotlib->point-e==0.0.0) (4.59.2)\n",
            "Requirement already satisfied: kiwisolver>=1.3.1 in /usr/local/lib/python3.12/dist-packages (from matplotlib->point-e==0.0.0) (1.4.9)\n",
            "Requirement already satisfied: pyparsing>=2.3.1 in /usr/local/lib/python3.12/dist-packages (from matplotlib->point-e==0.0.0) (3.2.3)\n",
            "Requirement already satisfied: python-dateutil>=2.7 in /usr/local/lib/python3.12/dist-packages (from matplotlib->point-e==0.0.0) (2.9.0.post0)\n",
            "Requirement already satisfied: charset_normalizer<4,>=2 in /usr/local/lib/python3.12/dist-packages (from requests->point-e==0.0.0) (3.4.3)\n",
            "Requirement already satisfied: idna<4,>=2.5 in /usr/local/lib/python3.12/dist-packages (from requests->point-e==0.0.0) (3.10)\n",
            "Requirement already satisfied: urllib3<3,>=1.21.1 in /usr/local/lib/python3.12/dist-packages (from requests->point-e==0.0.0) (2.5.0)\n",
            "Requirement already satisfied: certifi>=2017.4.17 in /usr/local/lib/python3.12/dist-packages (from requests->point-e==0.0.0) (2025.8.3)\n",
            "Requirement already satisfied: networkx>=3.0 in /usr/local/lib/python3.12/dist-packages (from scikit-image->point-e==0.0.0) (3.5)\n",
            "Requirement already satisfied: imageio!=2.35.0,>=2.33 in /usr/local/lib/python3.12/dist-packages (from scikit-image->point-e==0.0.0) (2.37.0)\n",
            "Requirement already satisfied: tifffile>=2022.8.12 in /usr/local/lib/python3.12/dist-packages (from scikit-image->point-e==0.0.0) (2025.8.28)\n",
            "Requirement already satisfied: lazy-loader>=0.4 in /usr/local/lib/python3.12/dist-packages (from scikit-image->point-e==0.0.0) (0.4)\n",
            "Requirement already satisfied: typing-extensions>=4.10.0 in /usr/local/lib/python3.12/dist-packages (from torch->point-e==0.0.0) (4.15.0)\n",
            "Requirement already satisfied: setuptools in /usr/local/lib/python3.12/dist-packages (from torch->point-e==0.0.0) (75.2.0)\n",
            "Requirement already satisfied: sympy>=1.13.3 in /usr/local/lib/python3.12/dist-packages (from torch->point-e==0.0.0) (1.13.3)\n",
            "Requirement already satisfied: jinja2 in /usr/local/lib/python3.12/dist-packages (from torch->point-e==0.0.0) (3.1.6)\n",
            "Requirement already satisfied: fsspec in /usr/local/lib/python3.12/dist-packages (from torch->point-e==0.0.0) (2025.3.0)\n",
            "Requirement already satisfied: nvidia-cuda-nvrtc-cu12==12.6.77 in /usr/local/lib/python3.12/dist-packages (from torch->point-e==0.0.0) (12.6.77)\n",
            "Requirement already satisfied: nvidia-cuda-runtime-cu12==12.6.77 in /usr/local/lib/python3.12/dist-packages (from torch->point-e==0.0.0) (12.6.77)\n",
            "Requirement already satisfied: nvidia-cuda-cupti-cu12==12.6.80 in /usr/local/lib/python3.12/dist-packages (from torch->point-e==0.0.0) (12.6.80)\n",
            "Requirement already satisfied: nvidia-cudnn-cu12==9.10.2.21 in /usr/local/lib/python3.12/dist-packages (from torch->point-e==0.0.0) (9.10.2.21)\n",
            "Requirement already satisfied: nvidia-cublas-cu12==12.6.4.1 in /usr/local/lib/python3.12/dist-packages (from torch->point-e==0.0.0) (12.6.4.1)\n",
            "Requirement already satisfied: nvidia-cufft-cu12==11.3.0.4 in /usr/local/lib/python3.12/dist-packages (from torch->point-e==0.0.0) (11.3.0.4)\n",
            "Requirement already satisfied: nvidia-curand-cu12==10.3.7.77 in /usr/local/lib/python3.12/dist-packages (from torch->point-e==0.0.0) (10.3.7.77)\n",
            "Requirement already satisfied: nvidia-cusolver-cu12==11.7.1.2 in /usr/local/lib/python3.12/dist-packages (from torch->point-e==0.0.0) (11.7.1.2)\n",
            "Requirement already satisfied: nvidia-cusparse-cu12==12.5.4.2 in /usr/local/lib/python3.12/dist-packages (from torch->point-e==0.0.0) (12.5.4.2)\n",
            "Requirement already satisfied: nvidia-cusparselt-cu12==0.7.1 in /usr/local/lib/python3.12/dist-packages (from torch->point-e==0.0.0) (0.7.1)\n",
            "Requirement already satisfied: nvidia-nccl-cu12==2.27.3 in /usr/local/lib/python3.12/dist-packages (from torch->point-e==0.0.0) (2.27.3)\n",
            "Requirement already satisfied: nvidia-nvtx-cu12==12.6.77 in /usr/local/lib/python3.12/dist-packages (from torch->point-e==0.0.0) (12.6.77)\n",
            "Requirement already satisfied: nvidia-nvjitlink-cu12==12.6.85 in /usr/local/lib/python3.12/dist-packages (from torch->point-e==0.0.0) (12.6.85)\n",
            "Requirement already satisfied: nvidia-cufile-cu12==1.11.1.6 in /usr/local/lib/python3.12/dist-packages (from torch->point-e==0.0.0) (1.11.1.6)\n",
            "Requirement already satisfied: triton==3.4.0 in /usr/local/lib/python3.12/dist-packages (from torch->point-e==0.0.0) (3.4.0)\n",
            "Requirement already satisfied: six>=1.5 in /usr/local/lib/python3.12/dist-packages (from python-dateutil>=2.7->matplotlib->point-e==0.0.0) (1.17.0)\n",
            "Requirement already satisfied: mpmath<1.4,>=1.1.0 in /usr/local/lib/python3.12/dist-packages (from sympy>=1.13.3->torch->point-e==0.0.0) (1.3.0)\n",
            "Requirement already satisfied: wcwidth in /usr/local/lib/python3.12/dist-packages (from ftfy->clip@ git+https://github.com/openai/CLIP.git->point-e==0.0.0) (0.2.13)\n",
            "Requirement already satisfied: MarkupSafe>=2.0 in /usr/local/lib/python3.12/dist-packages (from jinja2->torch->point-e==0.0.0) (3.0.2)\n",
            "Installing collected packages: point-e\n",
            "  Attempting uninstall: point-e\n",
            "    Found existing installation: point-e 0.0.0\n",
            "    Uninstalling point-e-0.0.0:\n",
            "      Successfully uninstalled point-e-0.0.0\n",
            "  Running setup.py develop for point-e\n",
            "Successfully installed point-e-0.0.0\n"
          ]
        }
      ],
      "source": [
        "%cd /content/point-e\n",
        "\n",
        "!pip install -e ."
      ]
    },
    {
      "cell_type": "markdown",
      "metadata": {
        "id": "VIWoFf9MJv91"
      },
      "source": [
        "## ライブラリのインポート"
      ]
    },
    {
      "cell_type": "code",
      "execution_count": 5,
      "metadata": {
        "id": "o2lxptJeo6kr",
        "outputId": "2f92f8ca-1070-4c47-d762-862caf0a9f17",
        "colab": {
          "base_uri": "https://localhost:8080/"
        }
      },
      "outputs": [
        {
          "output_type": "stream",
          "name": "stdout",
          "text": [
            "/content/point-e\n",
            "using device is cuda\n"
          ]
        }
      ],
      "source": [
        "%cd /content/point-e\n",
        "\n",
        "from PIL import Image\n",
        "from tqdm.auto import tqdm\n",
        "import plotly.graph_objects as go\n",
        "\n",
        "import torch\n",
        "device = 'cuda' if torch.cuda.is_available() else \"cpu\"\n",
        "print(\"using device is\", device)\n",
        "\n",
        "# for avoiding module 'skimage' has no attribute 'measure'\n",
        "import skimage.measure\n",
        "skimage.measure.label\n",
        "\n",
        "from point_e.diffusion.configs import DIFFUSION_CONFIGS, diffusion_from_config\n",
        "from point_e.diffusion.sampler import PointCloudSampler\n",
        "from point_e.models.download import load_checkpoint\n",
        "from point_e.models.configs import MODEL_CONFIGS, model_from_config\n",
        "from point_e.util.plotting import plot_point_cloud\n",
        "from point_e.util.point_cloud import PointCloud\n",
        "from point_e.util.pc_to_mesh import marching_cubes_mesh"
      ]
    },
    {
      "cell_type": "markdown",
      "metadata": {
        "id": "64hOdcHIA6L7"
      },
      "source": [
        "# Image to PointCloud"
      ]
    },
    {
      "cell_type": "markdown",
      "metadata": {
        "id": "mpHfx7GjY10M"
      },
      "source": [
        "## 学習済みモデルのセットアップ"
      ]
    },
    {
      "cell_type": "code",
      "execution_count": null,
      "metadata": {
        "id": "EmpEiDH6Y1G8"
      },
      "outputs": [],
      "source": [
        "print('creating base model...')\n",
        "base_name = 'base40M' # @param [\"base40M\", \"base300M\", \"base1B\"]\n",
        "base_model = model_from_config(MODEL_CONFIGS[base_name], device)\n",
        "base_model.eval()\n",
        "base_diffusion = diffusion_from_config(DIFFUSION_CONFIGS[base_name])\n",
        "\n",
        "print('creating upsample model...')\n",
        "upsampler_model = model_from_config(MODEL_CONFIGS['upsample'], device)\n",
        "upsampler_model.eval()\n",
        "upsampler_diffusion = diffusion_from_config(DIFFUSION_CONFIGS['upsample'])\n",
        "\n",
        "print('downloading base checkpoint...')\n",
        "base_model.load_state_dict(load_checkpoint(base_name, device))\n",
        "\n",
        "print('downloading upsampler checkpoint...')\n",
        "upsampler_model.load_state_dict(load_checkpoint('upsample', device))"
      ]
    },
    {
      "cell_type": "code",
      "execution_count": null,
      "metadata": {
        "id": "HNCEHlLXAthj"
      },
      "outputs": [],
      "source": [
        "# build point cloud sampler\n",
        "sampler = PointCloudSampler(\n",
        "    device=device,\n",
        "    models=[base_model, upsampler_model],\n",
        "    diffusions=[base_diffusion, upsampler_diffusion],\n",
        "    num_points=[1024, 4096 - 1024],\n",
        "    aux_channels=['R', 'G', 'B'],\n",
        "    guidance_scale=[3.0, 3.0],\n",
        ")"
      ]
    },
    {
      "cell_type": "markdown",
      "metadata": {
        "id": "wgSs7yDlAyz1"
      },
      "source": [
        "## テスト画像のセットアップ"
      ]
    },
    {
      "cell_type": "code",
      "execution_count": null,
      "metadata": {
        "id": "MeaVyui0A3eJ"
      },
      "outputs": [],
      "source": [
        "# Load an image to condition on.\n",
        "img = Image.open('/content/point-e/point_e/examples/example_data/cube_stack.jpg')\n",
        "img"
      ]
    },
    {
      "cell_type": "markdown",
      "metadata": {
        "id": "u4RJlX8-EDHy"
      },
      "source": [
        "## Inference"
      ]
    },
    {
      "cell_type": "code",
      "execution_count": null,
      "metadata": {
        "id": "0r-PEnltA-gH"
      },
      "outputs": [],
      "source": [
        "samples = None\n",
        "for x in tqdm(sampler.sample_batch_progressive(batch_size=1, model_kwargs=dict(images=[img]))):\n",
        "  samples = x"
      ]
    },
    {
      "cell_type": "code",
      "execution_count": null,
      "metadata": {
        "id": "BsjFDlweBMnS"
      },
      "outputs": [],
      "source": [
        "pc = sampler.output_to_point_clouds(samples)[0]\n",
        "fig = plot_point_cloud(pc, grid_size=3, fixed_bounds=((-0.75, -0.75, -0.75),(0.75, 0.75, 0.75)))"
      ]
    },
    {
      "cell_type": "markdown",
      "metadata": {
        "id": "5E9YZXioDGNb"
      },
      "source": [
        "# Text to PointCloud"
      ]
    },
    {
      "cell_type": "markdown",
      "metadata": {
        "id": "UdLYhq5LD0b8"
      },
      "source": [
        "## 学習済みモデルのセットアップ"
      ]
    },
    {
      "cell_type": "code",
      "execution_count": 6,
      "metadata": {
        "id": "s831_q3pDrvm",
        "colab": {
          "base_uri": "https://localhost:8080/"
        },
        "outputId": "44c9811d-7e78-454c-84b2-43b7407bda7d"
      },
      "outputs": [
        {
          "output_type": "stream",
          "name": "stdout",
          "text": [
            "creating base model...\n",
            "creating upsample model...\n",
            "downloading base checkpoint...\n",
            "downloading upsampler checkpoint...\n"
          ]
        },
        {
          "output_type": "execute_result",
          "data": {
            "text/plain": [
              "<All keys matched successfully>"
            ]
          },
          "metadata": {},
          "execution_count": 6
        }
      ],
      "source": [
        "print('creating base model...')\n",
        "base_name = 'base40M-textvec'\n",
        "base_model = model_from_config(MODEL_CONFIGS[base_name], device)\n",
        "base_model.eval()\n",
        "base_diffusion = diffusion_from_config(DIFFUSION_CONFIGS[base_name])\n",
        "\n",
        "print('creating upsample model...')\n",
        "upsampler_model = model_from_config(MODEL_CONFIGS['upsample'], device)\n",
        "upsampler_model.eval()\n",
        "upsampler_diffusion = diffusion_from_config(DIFFUSION_CONFIGS['upsample'])\n",
        "\n",
        "print('downloading base checkpoint...')\n",
        "base_model.load_state_dict(load_checkpoint(base_name, device))\n",
        "\n",
        "print('downloading upsampler checkpoint...')\n",
        "upsampler_model.load_state_dict(load_checkpoint('upsample', device))"
      ]
    },
    {
      "cell_type": "code",
      "execution_count": 7,
      "metadata": {
        "id": "WniswzCxD8mX"
      },
      "outputs": [],
      "source": [
        "sampler = PointCloudSampler(\n",
        "  device=device,\n",
        "  models=[base_model, upsampler_model],\n",
        "  diffusions=[base_diffusion, upsampler_diffusion],\n",
        "  num_points=[1024, 4096 - 1024],\n",
        "  aux_channels=['R', 'G', 'B'],\n",
        "  guidance_scale=[3.0, 0.0],\n",
        "  model_kwargs_key_filter=('texts', ''), # Do not condition the upsampler at all\n",
        ")"
      ]
    },
    {
      "cell_type": "markdown",
      "metadata": {
        "id": "r4LSr9ymEFc1"
      },
      "source": [
        "## Inference"
      ]
    },
    {
      "cell_type": "code",
      "execution_count": 9,
      "metadata": {
        "colab": {
          "base_uri": "https://localhost:8080/",
          "height": 1000,
          "referenced_widgets": [
            "600b189a11ac47ab8403b87d7ac47e7b",
            "864090db50964aa78dfbd85e92d99d2d",
            "0a2c017dae254e2292262cd05df327a8",
            "b78b07e2e2d3417994740a3bd60c75b5",
            "40b8fa1514d74961a820fa3880157ffe",
            "def2e04dc4f84214a39b8064da3ec9d6",
            "dc943b4574b44024a101267962e08f52",
            "1600093f855b4f89a0cfa673f0d65ae7",
            "0cb8de47eece4b098cb19af82fbef6a0",
            "82cccfb13f8645c5b46a4c39f2c1dad8",
            "25d87adb29504871b2f759d245521397"
          ]
        },
        "id": "IMSCbIbxEG8C",
        "outputId": "f67dc285-933a-4a90-c353-cbec50569e9f"
      },
      "outputs": [
        {
          "output_type": "display_data",
          "data": {
            "text/plain": [
              "Generating point clouds:   0%|          | 0/125 [00:00<?, ?it/s]"
            ],
            "application/vnd.jupyter.widget-view+json": {
              "version_major": 2,
              "version_minor": 0,
              "model_id": "600b189a11ac47ab8403b87d7ac47e7b"
            }
          },
          "metadata": {}
        },
        {
          "output_type": "stream",
          "name": "stdout",
          "text": [
            "Plotly point cloud saved to plotly_point_cloud_0.ply\n",
            "Plotly point cloud saved to plotly_point_cloud_1.ply\n",
            "Plotly point cloud saved to plotly_point_cloud_2.ply\n",
            "Plotly point cloud saved to plotly_point_cloud_3.ply\n",
            "Plotly point cloud saved to plotly_point_cloud_4.ply\n",
            "Plotly point cloud saved to plotly_point_cloud_5.ply\n",
            "Plotly point cloud saved to plotly_point_cloud_6.ply\n",
            "Plotly point cloud saved to plotly_point_cloud_7.ply\n",
            "Plotly point cloud saved to plotly_point_cloud_8.ply\n",
            "Plotly point cloud saved to plotly_point_cloud_9.ply\n",
            "Plotly point cloud saved to plotly_point_cloud_10.ply\n",
            "Plotly point cloud saved to plotly_point_cloud_11.ply\n",
            "Plotly point cloud saved to plotly_point_cloud_12.ply\n",
            "Plotly point cloud saved to plotly_point_cloud_13.ply\n",
            "Plotly point cloud saved to plotly_point_cloud_14.ply\n",
            "Plotly point cloud saved to plotly_point_cloud_15.ply\n",
            "Plotly point cloud saved to plotly_point_cloud_16.ply\n",
            "Plotly point cloud saved to plotly_point_cloud_17.ply\n",
            "Plotly point cloud saved to plotly_point_cloud_18.ply\n",
            "Plotly point cloud saved to plotly_point_cloud_19.ply\n",
            "Plotly point cloud saved to plotly_point_cloud_20.ply\n",
            "Plotly point cloud saved to plotly_point_cloud_21.ply\n",
            "Plotly point cloud saved to plotly_point_cloud_22.ply\n",
            "Plotly point cloud saved to plotly_point_cloud_23.ply\n",
            "Plotly point cloud saved to plotly_point_cloud_24.ply\n",
            "Plotly point cloud saved to plotly_point_cloud_25.ply\n",
            "Plotly point cloud saved to plotly_point_cloud_26.ply\n",
            "Plotly point cloud saved to plotly_point_cloud_27.ply\n",
            "Plotly point cloud saved to plotly_point_cloud_28.ply\n",
            "Plotly point cloud saved to plotly_point_cloud_29.ply\n",
            "Plotly point cloud saved to plotly_point_cloud_30.ply\n",
            "Plotly point cloud saved to plotly_point_cloud_31.ply\n",
            "Plotly point cloud saved to plotly_point_cloud_32.ply\n",
            "Plotly point cloud saved to plotly_point_cloud_33.ply\n",
            "Plotly point cloud saved to plotly_point_cloud_34.ply\n",
            "Plotly point cloud saved to plotly_point_cloud_35.ply\n",
            "Plotly point cloud saved to plotly_point_cloud_36.ply\n",
            "Plotly point cloud saved to plotly_point_cloud_37.ply\n",
            "Plotly point cloud saved to plotly_point_cloud_38.ply\n",
            "Plotly point cloud saved to plotly_point_cloud_39.ply\n",
            "Plotly point cloud saved to plotly_point_cloud_40.ply\n",
            "Plotly point cloud saved to plotly_point_cloud_41.ply\n",
            "Plotly point cloud saved to plotly_point_cloud_42.ply\n",
            "Plotly point cloud saved to plotly_point_cloud_43.ply\n",
            "Plotly point cloud saved to plotly_point_cloud_44.ply\n",
            "Plotly point cloud saved to plotly_point_cloud_45.ply\n",
            "Plotly point cloud saved to plotly_point_cloud_46.ply\n",
            "Plotly point cloud saved to plotly_point_cloud_47.ply\n",
            "Plotly point cloud saved to plotly_point_cloud_48.ply\n",
            "Plotly point cloud saved to plotly_point_cloud_49.ply\n",
            "Plotly point cloud saved to plotly_point_cloud_50.ply\n",
            "Plotly point cloud saved to plotly_point_cloud_51.ply\n",
            "Plotly point cloud saved to plotly_point_cloud_52.ply\n",
            "Plotly point cloud saved to plotly_point_cloud_53.ply\n",
            "Plotly point cloud saved to plotly_point_cloud_54.ply\n",
            "Plotly point cloud saved to plotly_point_cloud_55.ply\n",
            "Plotly point cloud saved to plotly_point_cloud_56.ply\n",
            "Plotly point cloud saved to plotly_point_cloud_57.ply\n",
            "Plotly point cloud saved to plotly_point_cloud_58.ply\n",
            "Plotly point cloud saved to plotly_point_cloud_59.ply\n",
            "Plotly point cloud saved to plotly_point_cloud_60.ply\n",
            "Plotly point cloud saved to plotly_point_cloud_61.ply\n",
            "Plotly point cloud saved to plotly_point_cloud_62.ply\n",
            "Plotly point cloud saved to plotly_point_cloud_63.ply\n",
            "Plotly point cloud saved to plotly_point_cloud_64.ply\n",
            "Plotly point cloud saved to plotly_point_cloud_65.ply\n",
            "Plotly point cloud saved to plotly_point_cloud_66.ply\n",
            "Plotly point cloud saved to plotly_point_cloud_67.ply\n",
            "Plotly point cloud saved to plotly_point_cloud_68.ply\n",
            "Plotly point cloud saved to plotly_point_cloud_69.ply\n",
            "Plotly point cloud saved to plotly_point_cloud_70.ply\n",
            "Plotly point cloud saved to plotly_point_cloud_71.ply\n",
            "Plotly point cloud saved to plotly_point_cloud_72.ply\n",
            "Plotly point cloud saved to plotly_point_cloud_73.ply\n",
            "Plotly point cloud saved to plotly_point_cloud_74.ply\n",
            "Plotly point cloud saved to plotly_point_cloud_75.ply\n",
            "Plotly point cloud saved to plotly_point_cloud_76.ply\n",
            "Plotly point cloud saved to plotly_point_cloud_77.ply\n",
            "Plotly point cloud saved to plotly_point_cloud_78.ply\n",
            "Plotly point cloud saved to plotly_point_cloud_79.ply\n",
            "Plotly point cloud saved to plotly_point_cloud_80.ply\n",
            "Plotly point cloud saved to plotly_point_cloud_81.ply\n",
            "Plotly point cloud saved to plotly_point_cloud_82.ply\n",
            "Plotly point cloud saved to plotly_point_cloud_83.ply\n",
            "Plotly point cloud saved to plotly_point_cloud_84.ply\n",
            "Plotly point cloud saved to plotly_point_cloud_85.ply\n",
            "Plotly point cloud saved to plotly_point_cloud_86.ply\n",
            "Plotly point cloud saved to plotly_point_cloud_87.ply\n",
            "Plotly point cloud saved to plotly_point_cloud_88.ply\n",
            "Plotly point cloud saved to plotly_point_cloud_89.ply\n",
            "Plotly point cloud saved to plotly_point_cloud_90.ply\n",
            "Plotly point cloud saved to plotly_point_cloud_91.ply\n",
            "Plotly point cloud saved to plotly_point_cloud_92.ply\n",
            "Plotly point cloud saved to plotly_point_cloud_93.ply\n",
            "Plotly point cloud saved to plotly_point_cloud_94.ply\n",
            "Plotly point cloud saved to plotly_point_cloud_95.ply\n",
            "Plotly point cloud saved to plotly_point_cloud_96.ply\n",
            "Plotly point cloud saved to plotly_point_cloud_97.ply\n",
            "Plotly point cloud saved to plotly_point_cloud_98.ply\n",
            "Plotly point cloud saved to plotly_point_cloud_99.ply\n",
            "Plotly point cloud saved to plotly_point_cloud_100.ply\n",
            "Plotly point cloud saved to plotly_point_cloud_101.ply\n",
            "Plotly point cloud saved to plotly_point_cloud_102.ply\n",
            "Plotly point cloud saved to plotly_point_cloud_103.ply\n",
            "Plotly point cloud saved to plotly_point_cloud_104.ply\n",
            "Plotly point cloud saved to plotly_point_cloud_105.ply\n",
            "Plotly point cloud saved to plotly_point_cloud_106.ply\n",
            "Plotly point cloud saved to plotly_point_cloud_107.ply\n",
            "Plotly point cloud saved to plotly_point_cloud_108.ply\n",
            "Plotly point cloud saved to plotly_point_cloud_109.ply\n",
            "Plotly point cloud saved to plotly_point_cloud_110.ply\n",
            "Plotly point cloud saved to plotly_point_cloud_111.ply\n",
            "Plotly point cloud saved to plotly_point_cloud_112.ply\n",
            "Plotly point cloud saved to plotly_point_cloud_113.ply\n",
            "Plotly point cloud saved to plotly_point_cloud_114.ply\n",
            "Plotly point cloud saved to plotly_point_cloud_115.ply\n",
            "Plotly point cloud saved to plotly_point_cloud_116.ply\n",
            "Plotly point cloud saved to plotly_point_cloud_117.ply\n",
            "Plotly point cloud saved to plotly_point_cloud_118.ply\n",
            "Plotly point cloud saved to plotly_point_cloud_119.ply\n",
            "Plotly point cloud saved to plotly_point_cloud_120.ply\n",
            "Plotly point cloud saved to plotly_point_cloud_121.ply\n",
            "Plotly point cloud saved to plotly_point_cloud_122.ply\n",
            "Plotly point cloud saved to plotly_point_cloud_123.ply\n",
            "Plotly point cloud saved to plotly_point_cloud_124.ply\n"
          ]
        }
      ],
      "source": [
        "# Set a prompt to condition on.\n",
        "prompt = 'A flat land of brown and green random distribution' # @param {type:\"string\"}\n",
        "\n",
        "# Produce a sample from the model.\n",
        "samples = None\n",
        "\n",
        "for i in tqdm(range(125), desc=\"Generating point clouds\"):\n",
        "  for x in sampler.sample_batch_progressive(batch_size=1, model_kwargs=dict(texts=[prompt])):\n",
        "    samples = x\n",
        "  pc = sampler.output_to_point_clouds(samples)[0]\n",
        "  #fig = plot_point_cloud(pc, grid_size=3, fixed_bounds=((-0.75, -0.75, -0.75),(0.75, 0.75, 0.75)))\n",
        "  fig_plotly = go.Figure(\n",
        "    data=[\n",
        "      go.Scatter3d(\n",
        "        x=pc.coords[:,0], y=pc.coords[:,1], z=pc.coords[:,2],\n",
        "        mode='markers',\n",
        "        marker=dict(\n",
        "          size=2,\n",
        "          color=['rgb({},{},{})'.format(r,g,b) for r,g,b in zip(pc.channels[\"R\"], pc.channels[\"G\"], pc.channels[\"B\"])],\n",
        "        )\n",
        "      )\n",
        "    ],\n",
        "    layout=dict(\n",
        "      scene=dict(\n",
        "        xaxis=dict(visible=False),\n",
        "        yaxis=dict(visible=False),\n",
        "        zaxis=dict(visible=False)\n",
        "      )\n",
        "    ),\n",
        "  )\n",
        "\n",
        "\n",
        "  # Extract data from the plotly figure\n",
        "  coords = pc.coords\n",
        "  colors = pc.channels[\"R\"], pc.channels[\"G\"], pc.channels[\"B\"]\n",
        "\n",
        "  # Create a new PointCloud object to ensure the correct format for saving\n",
        "  pc_to_save = PointCloud(coords=coords, channels={'R': colors[0], 'G': colors[1], 'B': colors[2]})\n",
        "\n",
        "  # Write the point cloud to a PLY file\n",
        "  with open(f'plotly_point_cloud_{i}.ply', 'wb') as f:\n",
        "      pc_to_save.write_ply(f)\n",
        "\n",
        "  print(f\"Plotly point cloud saved to plotly_point_cloud_{i}.ply\")\n",
        "\n",
        "# Note: Plotting all 50 figures might be resource intensive.\n",
        "# Consider only plotting a subset or saving them as files.\n",
        "# fig_plotly.show(renderer=\"colab\")"
      ]
    },
    {
      "cell_type": "code",
      "metadata": {
        "id": "01a3cec8",
        "outputId": "7e993d06-4c6b-4b45-9890-0d95066b1525",
        "colab": {
          "base_uri": "https://localhost:8080/"
        }
      },
      "source": [
        "import glob\n",
        "from google.colab import files\n",
        "\n",
        "# Get a list of all files starting with 'plot' and ending with '.ply'\n",
        "ply_files = glob.glob('plot*.ply')\n",
        "\n",
        "print(f\"Found {len(ply_files)} .ply files to download:\")\n",
        "\n",
        "# Download each file\n",
        "for file_path in ply_files:\n",
        "    try:\n",
        "        files.download(file_path)\n",
        "        print(f\"Downloaded: {file_path}\")\n",
        "    except Exception as e:\n",
        "        print(f\"Error downloading {file_path}: {e}\")"
      ],
      "execution_count": 2,
      "outputs": [
        {
          "output_type": "stream",
          "name": "stdout",
          "text": [
            "Found 0 .ply files to download:\n"
          ]
        }
      ]
    },
    {
      "cell_type": "markdown",
      "metadata": {
        "id": "AERXxh_5IcmL"
      },
      "source": [
        "# PointCloud to Mesh"
      ]
    },
    {
      "cell_type": "markdown",
      "metadata": {
        "id": "ygNdMYFEIlp-"
      },
      "source": [
        "## 学習済みモデルのセットアップ"
      ]
    },
    {
      "cell_type": "code",
      "execution_count": null,
      "metadata": {
        "id": "ZGD-bd6OIk7W"
      },
      "outputs": [],
      "source": [
        "print('creating SDF model...')\n",
        "name = 'sdf'\n",
        "model = model_from_config(MODEL_CONFIGS[name], device)\n",
        "model.eval()\n",
        "\n",
        "print('loading SDF model...')\n",
        "model.load_state_dict(load_checkpoint(name, device))"
      ]
    },
    {
      "cell_type": "markdown",
      "metadata": {
        "id": "b0JQy_T1I4WB"
      },
      "source": [
        "## PointCloudのセットアップ"
      ]
    },
    {
      "cell_type": "code",
      "execution_count": null,
      "metadata": {
        "id": "9PTeAz_pI5lU"
      },
      "outputs": [],
      "source": [
        "# Load a point cloud we want to convert into a mesh.\n",
        "pc = PointCloud.load('/content/point-e/point_e/examples/example_data/pc_corgi.npz')\n",
        "\n",
        "# Plot the point cloud as a sanity check.\n",
        "fig = plot_point_cloud(pc, grid_size=2)"
      ]
    },
    {
      "cell_type": "markdown",
      "metadata": {
        "id": "GDe_vKtgJJC3"
      },
      "source": [
        "## Inference"
      ]
    },
    {
      "cell_type": "code",
      "execution_count": null,
      "metadata": {
        "id": "qKnuWrb8JKfw"
      },
      "outputs": [],
      "source": [
        "# Produce a mesh (with vertex colors)\n",
        "mesh = marching_cubes_mesh(\n",
        "  pc=pc,\n",
        "  model=model,\n",
        "  batch_size=4096,\n",
        "  grid_size=32, # increase to 128 for resolution used in evals\n",
        "  progress=True,\n",
        ")"
      ]
    },
    {
      "cell_type": "code",
      "execution_count": null,
      "metadata": {
        "id": "N0SLkyFRJMpd"
      },
      "outputs": [],
      "source": [
        "# Write the mesh to a PLY file to import into some other program.\n",
        "with open('mesh.ply', 'wb') as f:\n",
        "  mesh.write_ply(f)"
      ]
    }
  ],
  "metadata": {
    "accelerator": "GPU",
    "colab": {
      "provenance": [],
      "include_colab_link": true
    },
    "kernelspec": {
      "display_name": "Python 3.10.4 64-bit",
      "language": "python",
      "name": "python3"
    },
    "language_info": {
      "name": "python",
      "version": "3.10.4"
    },
    "orig_nbformat": 4,
    "vscode": {
      "interpreter": {
        "hash": "69158ccfe43d0b962045f592ede11796dd42f250837ab62152c8bc6cd100a15b"
      }
    },
    "widgets": {
      "application/vnd.jupyter.widget-state+json": {
        "600b189a11ac47ab8403b87d7ac47e7b": {
          "model_module": "@jupyter-widgets/controls",
          "model_name": "HBoxModel",
          "model_module_version": "1.5.0",
          "state": {
            "_dom_classes": [],
            "_model_module": "@jupyter-widgets/controls",
            "_model_module_version": "1.5.0",
            "_model_name": "HBoxModel",
            "_view_count": null,
            "_view_module": "@jupyter-widgets/controls",
            "_view_module_version": "1.5.0",
            "_view_name": "HBoxView",
            "box_style": "",
            "children": [
              "IPY_MODEL_864090db50964aa78dfbd85e92d99d2d",
              "IPY_MODEL_0a2c017dae254e2292262cd05df327a8",
              "IPY_MODEL_b78b07e2e2d3417994740a3bd60c75b5"
            ],
            "layout": "IPY_MODEL_40b8fa1514d74961a820fa3880157ffe"
          }
        },
        "864090db50964aa78dfbd85e92d99d2d": {
          "model_module": "@jupyter-widgets/controls",
          "model_name": "HTMLModel",
          "model_module_version": "1.5.0",
          "state": {
            "_dom_classes": [],
            "_model_module": "@jupyter-widgets/controls",
            "_model_module_version": "1.5.0",
            "_model_name": "HTMLModel",
            "_view_count": null,
            "_view_module": "@jupyter-widgets/controls",
            "_view_module_version": "1.5.0",
            "_view_name": "HTMLView",
            "description": "",
            "description_tooltip": null,
            "layout": "IPY_MODEL_def2e04dc4f84214a39b8064da3ec9d6",
            "placeholder": "​",
            "style": "IPY_MODEL_dc943b4574b44024a101267962e08f52",
            "value": "Generating point clouds: 100%"
          }
        },
        "0a2c017dae254e2292262cd05df327a8": {
          "model_module": "@jupyter-widgets/controls",
          "model_name": "FloatProgressModel",
          "model_module_version": "1.5.0",
          "state": {
            "_dom_classes": [],
            "_model_module": "@jupyter-widgets/controls",
            "_model_module_version": "1.5.0",
            "_model_name": "FloatProgressModel",
            "_view_count": null,
            "_view_module": "@jupyter-widgets/controls",
            "_view_module_version": "1.5.0",
            "_view_name": "ProgressView",
            "bar_style": "success",
            "description": "",
            "description_tooltip": null,
            "layout": "IPY_MODEL_1600093f855b4f89a0cfa673f0d65ae7",
            "max": 125,
            "min": 0,
            "orientation": "horizontal",
            "style": "IPY_MODEL_0cb8de47eece4b098cb19af82fbef6a0",
            "value": 125
          }
        },
        "b78b07e2e2d3417994740a3bd60c75b5": {
          "model_module": "@jupyter-widgets/controls",
          "model_name": "HTMLModel",
          "model_module_version": "1.5.0",
          "state": {
            "_dom_classes": [],
            "_model_module": "@jupyter-widgets/controls",
            "_model_module_version": "1.5.0",
            "_model_name": "HTMLModel",
            "_view_count": null,
            "_view_module": "@jupyter-widgets/controls",
            "_view_module_version": "1.5.0",
            "_view_name": "HTMLView",
            "description": "",
            "description_tooltip": null,
            "layout": "IPY_MODEL_82cccfb13f8645c5b46a4c39f2c1dad8",
            "placeholder": "​",
            "style": "IPY_MODEL_25d87adb29504871b2f759d245521397",
            "value": " 125/125 [2:04:37&lt;00:00, 59.83s/it]"
          }
        },
        "40b8fa1514d74961a820fa3880157ffe": {
          "model_module": "@jupyter-widgets/base",
          "model_name": "LayoutModel",
          "model_module_version": "1.2.0",
          "state": {
            "_model_module": "@jupyter-widgets/base",
            "_model_module_version": "1.2.0",
            "_model_name": "LayoutModel",
            "_view_count": null,
            "_view_module": "@jupyter-widgets/base",
            "_view_module_version": "1.2.0",
            "_view_name": "LayoutView",
            "align_content": null,
            "align_items": null,
            "align_self": null,
            "border": null,
            "bottom": null,
            "display": null,
            "flex": null,
            "flex_flow": null,
            "grid_area": null,
            "grid_auto_columns": null,
            "grid_auto_flow": null,
            "grid_auto_rows": null,
            "grid_column": null,
            "grid_gap": null,
            "grid_row": null,
            "grid_template_areas": null,
            "grid_template_columns": null,
            "grid_template_rows": null,
            "height": null,
            "justify_content": null,
            "justify_items": null,
            "left": null,
            "margin": null,
            "max_height": null,
            "max_width": null,
            "min_height": null,
            "min_width": null,
            "object_fit": null,
            "object_position": null,
            "order": null,
            "overflow": null,
            "overflow_x": null,
            "overflow_y": null,
            "padding": null,
            "right": null,
            "top": null,
            "visibility": null,
            "width": null
          }
        },
        "def2e04dc4f84214a39b8064da3ec9d6": {
          "model_module": "@jupyter-widgets/base",
          "model_name": "LayoutModel",
          "model_module_version": "1.2.0",
          "state": {
            "_model_module": "@jupyter-widgets/base",
            "_model_module_version": "1.2.0",
            "_model_name": "LayoutModel",
            "_view_count": null,
            "_view_module": "@jupyter-widgets/base",
            "_view_module_version": "1.2.0",
            "_view_name": "LayoutView",
            "align_content": null,
            "align_items": null,
            "align_self": null,
            "border": null,
            "bottom": null,
            "display": null,
            "flex": null,
            "flex_flow": null,
            "grid_area": null,
            "grid_auto_columns": null,
            "grid_auto_flow": null,
            "grid_auto_rows": null,
            "grid_column": null,
            "grid_gap": null,
            "grid_row": null,
            "grid_template_areas": null,
            "grid_template_columns": null,
            "grid_template_rows": null,
            "height": null,
            "justify_content": null,
            "justify_items": null,
            "left": null,
            "margin": null,
            "max_height": null,
            "max_width": null,
            "min_height": null,
            "min_width": null,
            "object_fit": null,
            "object_position": null,
            "order": null,
            "overflow": null,
            "overflow_x": null,
            "overflow_y": null,
            "padding": null,
            "right": null,
            "top": null,
            "visibility": null,
            "width": null
          }
        },
        "dc943b4574b44024a101267962e08f52": {
          "model_module": "@jupyter-widgets/controls",
          "model_name": "DescriptionStyleModel",
          "model_module_version": "1.5.0",
          "state": {
            "_model_module": "@jupyter-widgets/controls",
            "_model_module_version": "1.5.0",
            "_model_name": "DescriptionStyleModel",
            "_view_count": null,
            "_view_module": "@jupyter-widgets/base",
            "_view_module_version": "1.2.0",
            "_view_name": "StyleView",
            "description_width": ""
          }
        },
        "1600093f855b4f89a0cfa673f0d65ae7": {
          "model_module": "@jupyter-widgets/base",
          "model_name": "LayoutModel",
          "model_module_version": "1.2.0",
          "state": {
            "_model_module": "@jupyter-widgets/base",
            "_model_module_version": "1.2.0",
            "_model_name": "LayoutModel",
            "_view_count": null,
            "_view_module": "@jupyter-widgets/base",
            "_view_module_version": "1.2.0",
            "_view_name": "LayoutView",
            "align_content": null,
            "align_items": null,
            "align_self": null,
            "border": null,
            "bottom": null,
            "display": null,
            "flex": null,
            "flex_flow": null,
            "grid_area": null,
            "grid_auto_columns": null,
            "grid_auto_flow": null,
            "grid_auto_rows": null,
            "grid_column": null,
            "grid_gap": null,
            "grid_row": null,
            "grid_template_areas": null,
            "grid_template_columns": null,
            "grid_template_rows": null,
            "height": null,
            "justify_content": null,
            "justify_items": null,
            "left": null,
            "margin": null,
            "max_height": null,
            "max_width": null,
            "min_height": null,
            "min_width": null,
            "object_fit": null,
            "object_position": null,
            "order": null,
            "overflow": null,
            "overflow_x": null,
            "overflow_y": null,
            "padding": null,
            "right": null,
            "top": null,
            "visibility": null,
            "width": null
          }
        },
        "0cb8de47eece4b098cb19af82fbef6a0": {
          "model_module": "@jupyter-widgets/controls",
          "model_name": "ProgressStyleModel",
          "model_module_version": "1.5.0",
          "state": {
            "_model_module": "@jupyter-widgets/controls",
            "_model_module_version": "1.5.0",
            "_model_name": "ProgressStyleModel",
            "_view_count": null,
            "_view_module": "@jupyter-widgets/base",
            "_view_module_version": "1.2.0",
            "_view_name": "StyleView",
            "bar_color": null,
            "description_width": ""
          }
        },
        "82cccfb13f8645c5b46a4c39f2c1dad8": {
          "model_module": "@jupyter-widgets/base",
          "model_name": "LayoutModel",
          "model_module_version": "1.2.0",
          "state": {
            "_model_module": "@jupyter-widgets/base",
            "_model_module_version": "1.2.0",
            "_model_name": "LayoutModel",
            "_view_count": null,
            "_view_module": "@jupyter-widgets/base",
            "_view_module_version": "1.2.0",
            "_view_name": "LayoutView",
            "align_content": null,
            "align_items": null,
            "align_self": null,
            "border": null,
            "bottom": null,
            "display": null,
            "flex": null,
            "flex_flow": null,
            "grid_area": null,
            "grid_auto_columns": null,
            "grid_auto_flow": null,
            "grid_auto_rows": null,
            "grid_column": null,
            "grid_gap": null,
            "grid_row": null,
            "grid_template_areas": null,
            "grid_template_columns": null,
            "grid_template_rows": null,
            "height": null,
            "justify_content": null,
            "justify_items": null,
            "left": null,
            "margin": null,
            "max_height": null,
            "max_width": null,
            "min_height": null,
            "min_width": null,
            "object_fit": null,
            "object_position": null,
            "order": null,
            "overflow": null,
            "overflow_x": null,
            "overflow_y": null,
            "padding": null,
            "right": null,
            "top": null,
            "visibility": null,
            "width": null
          }
        },
        "25d87adb29504871b2f759d245521397": {
          "model_module": "@jupyter-widgets/controls",
          "model_name": "DescriptionStyleModel",
          "model_module_version": "1.5.0",
          "state": {
            "_model_module": "@jupyter-widgets/controls",
            "_model_module_version": "1.5.0",
            "_model_name": "DescriptionStyleModel",
            "_view_count": null,
            "_view_module": "@jupyter-widgets/base",
            "_view_module_version": "1.2.0",
            "_view_name": "StyleView",
            "description_width": ""
          }
        }
      }
    }
  },
  "nbformat": 4,
  "nbformat_minor": 0
}